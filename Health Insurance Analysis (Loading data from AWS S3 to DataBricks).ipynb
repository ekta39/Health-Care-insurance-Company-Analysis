{
 "cells": [
  {
   "cell_type": "code",
   "execution_count": 0,
   "metadata": {
    "application/vnd.databricks.v1+cell": {
     "cellMetadata": {
      "byteLimit": 2048000,
      "rowLimit": 10000
     },
     "inputWidgets": {},
     "nuid": "5bdd72bd-8ec2-4b94-8b72-f1abe0fccddf",
     "showTitle": false,
     "title": ""
    }
   },
   "outputs": [],
   "source": [
    "# Requirement\n",
    "# A Health Care insurance company is facing challenges in enhancing its revenue and understanding the customers so it wants to take help from Big Data Ecosystem to analyse the Competitors company data received from varieties of sources, namely through scrapping and third-party sources. This analysis will help them to track the behaviour, condition of customers so that they can customise offers for them to buy insurance policies and also calculate royalties to those customers who buy policies in the past, this in turn will enhance their revenues.\n"
   ]
  },
  {
   "cell_type": "code",
   "execution_count": 0,
   "metadata": {
    "application/vnd.databricks.v1+cell": {
     "cellMetadata": {
      "byteLimit": 2048000,
      "rowLimit": 10000
     },
     "inputWidgets": {},
     "nuid": "7b6f268e-8a9e-40f6-9e07-5a9d7fd5848c",
     "showTitle": false,
     "title": ""
    }
   },
   "outputs": [],
   "source": [
    "# Creating ETL data pipelines for the Health Care insurance company which will make the company make appropriate business strategies to enhance their revenue by analysing customers behaviours and send offers and royalties to customers respectively.\n"
   ]
  },
  {
   "cell_type": "code",
   "execution_count": 0,
   "metadata": {
    "application/vnd.databricks.v1+cell": {
     "cellMetadata": {
      "byteLimit": 2048000,
      "rowLimit": 10000
     },
     "inputWidgets": {},
     "nuid": "eb3db104-b65c-48ef-b154-f2eca4cbce5e",
     "showTitle": false,
     "title": ""
    }
   },
   "outputs": [],
   "source": [
    "#Import libraries\n",
    "from pyspark.sql import SparkSession, Row\n",
    "from pyspark.sql.functions import col, count, avg, when, year,datediff, current_date, avg, sum, count\n",
    "from pyspark.sql.types import IntegerType\n",
    "\n",
    "# Initialize Spark session\n",
    "spark = SparkSession.builder \\\n",
    "    .appName(\"Health Insurance Analysis\") \\\n",
    "    .getOrCreate()\n"
   ]
  },
  {
   "cell_type": "code",
   "execution_count": 0,
   "metadata": {
    "application/vnd.databricks.v1+cell": {
     "cellMetadata": {
      "byteLimit": 2048000,
      "rowLimit": 10000
     },
     "inputWidgets": {},
     "nuid": "96dbe585-0e4f-40a4-a580-3a235b3a20d3",
     "showTitle": false,
     "title": ""
    }
   },
   "outputs": [],
   "source": [
    "# Accessing the AWS Bucket\n",
    "access_key = 'xxxxxxxxxxxxxx'\n",
    "secret_key = 'xxxxxxx+xIP9o/I'\n",
    "sc._jsc.hadoopConfiguration().set(\"fs.s3a.access.key\", access_key)\n",
    "sc._jsc.hadoopConfiguration().set(\"fs.s3a.secret.key\", secret_key)\n",
    "\n",
    "# If you are using Auto Loader file notification mode to load files, provide the AWS Region ID.\n",
    "aws_region = \"us-east-2\"\n",
    "sc._jsc.hadoopConfiguration().set(\"fs.s3a.endpoint\", \"s3.\" + aws_region + \".amazonaws.com\")\n"
   ]
  },
  {
   "cell_type": "code",
   "execution_count": 0,
   "metadata": {
    "application/vnd.databricks.v1+cell": {
     "cellMetadata": {
      "byteLimit": 2048000,
      "rowLimit": 10000
     },
     "inputWidgets": {},
     "nuid": "1d54305f-78e1-497b-b8f2-61170c699643",
     "showTitle": false,
     "title": ""
    }
   },
   "outputs": [],
   "source": [
    "# 1. DATASET CREATION\n",
    "# Upload the given sample data on AWS s3 in a folder named input-data.\\"
   ]
  },
  {
   "cell_type": "code",
   "execution_count": 0,
   "metadata": {
    "application/vnd.databricks.v1+cell": {
     "cellMetadata": {
      "byteLimit": 2048000,
      "rowLimit": 10000
     },
     "inputWidgets": {},
     "nuid": "969b4b0d-436a-468c-ac94-e265df73a32a",
     "showTitle": false,
     "title": ""
    }
   },
   "outputs": [],
   "source": [
    "# EXTRACT DATA FROM AWS S3\n",
    "# Reading the data from AWS S3\n",
    "claims_df = spark.read.json(\"s3a://health-insurance-capstone/raw-data/claims.json\")\n",
    "disease_df = spark.read.csv(\"s3a://health-insurance-capstone/raw-data/disease.csv\", header=True, inferSchema=True)\n",
    "group_df = spark.read.csv(\"s3a://health-insurance-capstone/raw-data/group.csv\", header=True, inferSchema=True)\n",
    "grpsubgrp_df = spark.read.csv(\"s3a://health-insurance-capstone/raw-data/grpsubgrp.csv\", header=True, inferSchema=True)\n",
    "hospital_df = spark.read.csv(\"s3a://health-insurance-capstone/raw-data/hospital.csv\", header=True, inferSchema=True)\n",
    "subgroup_df = spark.read.csv(\"s3a://health-insurance-capstone/raw-data/subgroup.csv\", header=True, inferSchema=True)\n",
    "subscriber_df = spark.read.csv(\"s3a://health-insurance-capstone/raw-data/subscriber.csv\", header=True, inferSchema=True)\n",
    "patient_records_df = spark.read.csv(\"s3a://health-insurance-capstone/raw-data/Patient_records.csv\", header=True, inferSchema=True)"
   ]
  },
  {
   "cell_type": "code",
   "execution_count": 0,
   "metadata": {
    "application/vnd.databricks.v1+cell": {
     "cellMetadata": {
      "byteLimit": 2048000,
      "rowLimit": 10000
     },
     "inputWidgets": {},
     "nuid": "35120cd8-3278-4422-9138-545ed0ac335b",
     "showTitle": false,
     "title": ""
    }
   },
   "outputs": [
    {
     "output_type": "stream",
     "name": "stdout",
     "output_type": "stream",
     "text": [
      "Schema of claims_df:\nroot\n |-- Claim_Or_Rejected: string (nullable = true)\n |-- SUB_ID: string (nullable = true)\n |-- claim_amount: string (nullable = true)\n |-- claim_date: string (nullable = true)\n |-- claim_id: long (nullable = true)\n |-- claim_type: string (nullable = true)\n |-- disease_name: string (nullable = true)\n |-- patient_id: long (nullable = true)\n\n+-----------------+----------+------------+----------+--------+----------------+----------------+----------+\n|Claim_Or_Rejected|    SUB_ID|claim_amount|claim_date|claim_id|      claim_type|    disease_name|patient_id|\n+-----------------+----------+------------+----------+--------+----------------+----------------+----------+\n|                N| SUBID1000|       79874|1949-03-14|       0| claims of value|    Galactosemia|    187158|\n|              NaN|SUBID10001|      151142|1970-03-16|       1|claims of policy|  Bladder cancer|    112766|\n|              NaN|SUBID10002|       59924|2008-02-03|       2| claims of value|   Kidney cancer|    199252|\n|              NaN|SUBID10003|      143120|1995-02-08|       3|  claims of fact|         Suicide|    133424|\n|                Y|SUBID10004|      168634|1967-05-23|       4| claims of value|    Food allergy|    172579|\n|              NaN|SUBID10005|       64840|1991-10-04|       5|claims of policy|        Whiplash|    171320|\n|                N| SUBID1006|       26800|1991-03-26|       6|  claims of fact|      Sunbathing|    107794|\n|              NaN|SUBID10007|      177186|1946-09-05|       7| claims of value|Drug consumption|    130339|\n|                N|SUBID10008|      141123|1966-06-20|       8|  claims of fact|          Dengue|    110377|\n|                N|SUBID10009|       88540|1945-12-29|       9| claims of value|    Head banging|    149367|\n|                N| SUBID1010|       29150|1999-01-25|      10| claims of value| Fanconi anaemia|    156168|\n|                Y|SUBID10011|       40897|1975-02-08|      11| claims of value|   Breast cancer|    114241|\n|              NaN|SUBID10012|       75983|1985-02-12|      12| claims of value|         Anthrax|    146382|\n|              NaN|SUBID10013|      192340|2014-07-30|      13|  claims of fact| Cystic fibrosis|    132748|\n|                N|SUBID10014|      118628|2003-12-18|      14| claims of value|    Galactosemia|    167340|\n|                Y|SUBID10015|      100224|1986-08-02|      15| claims of value|          Dengue|    135184|\n|                N|SUBID10016|       42860|1955-01-20|      16| claims of value|        Smallpox|    179662|\n|                N|SUBID10017|      161786|2017-06-01|      17|claims of policy|  Pollen allergy|    184479|\n|              NaN|SUBID10018|       66129|1956-01-04|      18|  claims of fact|   Breast cancer|    156988|\n|              NaN|SUBID10019|      182552|1948-07-26|      19| claims of value|        Glaucoma|    132870|\n+-----------------+----------+------------+----------+--------+----------------+----------------+----------+\nonly showing top 20 rows\n\nSchema of disease_df:\nroot\n |-- SubGrpID: string (nullable = true)\n |--  Disease_ID: integer (nullable = true)\n |-- Disease_name: string (nullable = true)\n\n+--------+-----------+--------------------+\n|SubGrpID| Disease_ID|        Disease_name|\n+--------+-----------+--------------------+\n|    S101|     110001|            Beriberi|\n|    S101|     110002|              Scurvy|\n|    S101|     110003|              Goitre|\n|    S101|     110004|        Osteoporosis|\n|    S101|     110005|             Rickets|\n|    S101|     110006|             Anaemia|\n|    S102|     110007|           Fractures|\n|    S102|     110008|        Heart Attack|\n|    S102|     110009|               Burns|\n|    S102|     110010|             Choking|\n|    S102|     110011|              Stroke|\n|    S102|     110012|      Food Poisoning|\n|    S103|     110013|              Asthma|\n|    S103|     110014|            Glaucoma|\n|    S103|     110015|            Diabetes|\n|    S103|     110016|             Amnesia|\n|    S103|     110017|         Parasomnias|\n|    S103|     110018|Neurocognitive di...|\n|    S104|     110019|             Vertigo|\n|    S104|     110020|          Lymphedema|\n+--------+-----------+--------------------+\nonly showing top 20 rows\n\nSchema of group_df:\nroot\n |-- Country: string (nullable = true)\n |-- premium_written: integer (nullable = true)\n |-- zipcode: integer (nullable = true)\n |-- Grp_Id: string (nullable = true)\n |-- Grp_Name: string (nullable = true)\n |-- Grp_Type: string (nullable = true)\n |-- city: string (nullable = true)\n |-- year: integer (nullable = true)\n\n+-------+---------------+-------+------+--------------------+--------+---------+----+\n|Country|premium_written|zipcode|Grp_Id|            Grp_Name|Grp_Type|     city|year|\n+-------+---------------+-------+------+--------------------+--------+---------+----+\n|  India|          72000| 482018|GRP101|Life Insurance Co...|   Govt.|   Mumbai|1956|\n|  India|          45000| 482049|GRP102|HDFC Standard Lif...| Private|   Mumbai|2000|\n|  India|          64000| 482030|GRP103|Max Life Insuranc...| Private|    Delhi|2000|\n|  India|          59000| 482028|GRP104|ICICI Prudential ...| Private|   Mumbai|2000|\n|  India|          37000| 482014|GRP105|Kotak Mahindra Li...| Private|   Mumbai|2001|\n|  India|          89000| 482011|GRP106|Aditya Birla Sun ...| Private|   Mumbai|2000|\n|  India|          70000| 482006|GRP107|TATA AIG Life Ins...| Private|   Mumbai|2001|\n|  India|          52000| 482034|GRP108|SBI Life Insuranc...| Private|   Mumbai|2001|\n|  India|          78000| 482032|GRP109|Exide Life Insura...| Private|Bangalore|2001|\n|  India|          48000| 482015|GRP110|Bajaj Allianz Lif...| Private|     Pune|2001|\n|  India|          57000| 482011|GRP111|PNB MetLife India...| Private|   Mumbai|2001|\n|  India|          57000| 482022|GRP112|Reliance Nippon L...| Private|   Mumbai|2001|\n|  India|          64000| 482009|GRP113|Aviva Life Insura...| Private| Gurugram|2002|\n|  India|          33000| 482043|GRP114|Sahara India Life...| Private|  Lucknow|2004|\n|  India|          79000| 482036|GRP115|Shriram Life Insu...| Private|Hyderabad|2005|\n|  India|          32000| 482002|GRP116|Bharti AXA Life I...| Private|   Mumbai|2008|\n|  India|          59000| 482017|GRP117|Future Generali I...| Private|   Mumbai|2007|\n|  India|          97000| 482023|GRP118|IDBI Federal Life...| Private|   Mumbai|2008|\n|  India|          47000| 482046|GRP119|Canara HSBC Orien...| Private| Gurugram|2008|\n|  India|          50000| 482017|GRP120|Aegon Life Insura...| Private|   Mumbai|2008|\n+-------+---------------+-------+------+--------------------+--------+---------+----+\nonly showing top 20 rows\n\nSchema of grpsubgrp_df:\nroot\n |-- SubGrp_ID: string (nullable = true)\n |-- Grp_Id: string (nullable = true)\n\n+---------+------+\n|SubGrp_ID|Grp_Id|\n+---------+------+\n|     S101|GRP101|\n|     S101|GRP105|\n|     S102|GRP110|\n|     S102|GRP150|\n|     S102|GRP136|\n|     S103|GRP122|\n|     S103|GRP108|\n|     S103|GRP138|\n|     S103|GRP148|\n|     S104|GRP103|\n|     S104|GRP113|\n|     S104|GRP123|\n|     S104|GRP133|\n|     S104|GRP143|\n|     S105|GRP153|\n|     S105|GRP104|\n|     S105|GRP114|\n|     S105|GRP124|\n|     S106|GRP117|\n|     S106|GRP127|\n+---------+------+\nonly showing top 20 rows\n\nSchema of hospital_df:\nroot\n |-- Hospital_id: string (nullable = true)\n |-- Hospital_name: string (nullable = true)\n |-- city: string (nullable = true)\n |-- state: string (nullable = true)\n |-- country: string (nullable = true)\n\n+-----------+--------------------+----------+-----------+-------+\n|Hospital_id|       Hospital_name|      city|      state|country|\n+-----------+--------------------+----------+-----------+-------+\n|      H1000|All India Institu...| New Delhi|        NaN|  India|\n|      H1001|Medanta The Medicity|   Gurgaon|    Haryana|  India|\n|      H1002|The Christian Med...|   Vellore| Tamil Nadu|  India|\n|      H1003|PGIMER - Postgrad...|Chandigarh|    Haryana|  India|\n|      H1004|Apollo Hospital -...|   Chennai| Tamil Nadu|  India|\n|      H1005|P. D. Hinduja Nat...|    Mumbai|Maharashtra|  India|\n|      H1006|Breach Candy Hosp...|    Mumbai|Maharashtra|  India|\n|      H1007|Fortis Flt. Lt. R...| New Delhi|        NaN|  India|\n|      H1008|King Edward Memor...|    Mumbai|Maharashtra|  India|\n|      H1009|Indraprastha Apol...|     Delhi|        NaN|  India|\n|      H1010|Lilavati Hospital...|    Mumbai|Maharashtra|  India|\n|      H1011|Sir Ganga Ram Hos...|     Delhi|        NaN|  India|\n|      H1012|Bombay Hospital &...|    Mumbai|Maharashtra|  India|\n|      H1013|Apollo Health Cit...| Hyderabad|  Telangana|  India|\n|      H1014|Fortis Hiranandan...|    Mumbai|Maharashtra|  India|\n|      H1015|Fortis Hospital M...|    Mumbai|Maharashtra|  India|\n|      H1016|Jaslok Hospital a...|    Mumbai|Maharashtra|  India|\n|      H1017|   Manipal Hospitals| Bengaluru|  Karnataka|  India|\n|      H1018|Yashoda Hospital ...| Hyderabad|  Telangana|  India|\n|      H1019|Apollo Hospitals ...| Bengaluru|  Karnataka|  India|\n+-----------+--------------------+----------+-----------+-------+\n\nSchema of subgroup_df:\nroot\n |-- SubGrp_id: string (nullable = true)\n |-- SubGrp_Name: string (nullable = true)\n |-- Monthly_Premium: integer (nullable = true)\n\n+---------+-------------------+---------------+\n|SubGrp_id|        SubGrp_Name|Monthly_Premium|\n+---------+-------------------+---------------+\n|     S101|Deficiency Diseases|           3000|\n|     S102|           Accident|           1000|\n|     S103|         Physiology|           2000|\n|     S104|            Therapy|           1500|\n|     S105|          Allergies|           2300|\n|     S106|     Self inflicted|           1200|\n|     S107|             Cancer|           3200|\n|     S108| Infectious disease|           1500|\n|     S109|         Hereditary|           2000|\n|     S110|              Viral|           1000|\n+---------+-------------------+---------------+\n\nSchema of subscriber_df:\nroot\n |-- sub _id: string (nullable = true)\n |-- first_name: string (nullable = true)\n |-- last_name: string (nullable = true)\n |-- Street: string (nullable = true)\n |-- Birth_date: date (nullable = true)\n |-- Gender: string (nullable = true)\n |-- Phone: string (nullable = true)\n |-- Country: string (nullable = true)\n |-- City: string (nullable = true)\n |-- Zip Code: integer (nullable = true)\n |-- Subgrp_id: string (nullable = true)\n |-- Elig_ind: string (nullable = true)\n |-- eff_date: date (nullable = true)\n |-- term_date: date (nullable = true)\n\n+----------+----------+-----------+-----------------+----------+------+--------------+-------+--------------------+--------+---------+--------+----------+----------+\n|   sub _id|first_name|  last_name|           Street|Birth_date|Gender|         Phone|Country|                City|Zip Code|Subgrp_id|Elig_ind|  eff_date| term_date|\n+----------+----------+-----------+-----------------+----------+------+--------------+-------+--------------------+--------+---------+--------+----------+----------+\n|SUBID10000|    Harbir|Vishwakarma|       Baria Marg|1924-06-30|Female|+91 0112009318|  India|            Rourkela|  767058|     S107|       Y|1944-06-30|1954-01-14|\n|SUBID10001|  Brahmdev|     Sonkar|        Lala Marg|1948-12-20|Female|+91 1727749552|  India|        Tiruvottiyur|   34639|     S105|       Y|1968-12-20|1970-05-16|\n|SUBID10002|   Ujjawal|       Devi|      Mammen Zila|1980-04-16|  Male|+91 8547451606|  India|           Berhampur|  914455|     S106|       N|2000-04-16|2008-05-04|\n|SUBID10003|   Ballari|     Mishra|       Sahni Zila|1969-09-25|Female|+91 0106026841|  India|        Bihar Sharif|   91481|     S104|       N|1989-09-25|1995-06-05|\n|SUBID10004|   Devnath|  Srivastav|       Magar Zila|1946-05-01|Female|+91 1868774631|  India|         Bidhannagar|  531742|     S110|       N|1966-05-01|1970-12-09|\n|SUBID10005|     Atasi|       Seth|     Khatri Nagar|1967-10-02|  Male|+91 9747336855|  India|            Amravati|  229062|     S104|       Y|1987-10-02|1995-02-13|\n| SUBID1006|    Manish|     Maurya|Swaminathan Chowk|1967-06-06|  Male|+91 4354294043|  India|              Panvel|  438733|     S109|    null|1987-06-06|1995-03-21|\n|SUBID10007|     Aakar|      Yadav|            Swamy|1925-03-05|Female|+91 2777633911|  India|        Bihar Sharif|  535907|     S104|       N|1945-03-05|1946-11-07|\n|SUBID10008|   Gurudas|      Gupta|      Sarin Nagar|1945-05-06|  Male|+91 1232859381|  India|           Kamarhati|  933226|     S103|       Y|1965-05-06|1970-09-16|\n|SUBID10009|      null|      Gupta|    Thakur Circle|1925-06-12|  Male|+91 1780763280|  India|           Bangalore|  957469|     S105|       Y|1945-06-12|1953-08-30|\n| SUBID1010|      null|     Divedi|          Dhillon|1976-02-03|  Male|+91 5586075345|  India|              Rajkot|  911319|     S102|       Y|1996-02-03|2002-01-27|\n|SUBID10011|      null|Vishwakarma|      Rajagopalan|1955-01-22|Female|+91 4146391938|  India|           Ghaziabad|  337042|     S106|       N|1975-01-22|1978-11-02|\n|SUBID10012|Dharmadaas|     Tiwari|             Rama|1964-04-29|  Male|+91 6345482027|  India|Bhalswa Jahangir Pur|  430793|     S103|       N|1984-04-29|1988-02-07|\n|SUBID10013|  Brahmvir|        Rai|        Shah Path|1991-11-11|  Male|+91 7316972612|  India|              Ambala|  249898|     S106|       N|2011-11-11|2020-05-23|\n|SUBID10014|      null|  Srivastav|     Chandra Path|1981-01-25|Female|+91 2960004518|  India|Surendranagar Dud...|  111966|     S102|       N|2001-01-25|2005-07-13|\n|SUBID10015|   Bhagvan|  Srivastav|            Edwin|1966-07-24|Female|+91 0297693485|  India|          Bhimavaram|  436513|     S105|       Y|1986-07-24|1988-02-04|\n|SUBID10016| Amritkala|  Srivastav|        Guha Path|1933-11-20|Female|+91 0537157280|  India|              Meerut|  863467|     S106|       Y|1953-11-20|1955-07-29|\n|SUBID10017|    Bandhu|       Seth|        Varughese|1996-10-15|  Male|+91 0695289163|  India|           Chinsurah|  136713|     S108|       N|2016-10-15|2018-06-08|\n|SUBID10018|Bhagavaana|      Kumar|    Kulkarni Zila|1935-09-16|Female|+91 6071745855|  India|        Shahjahanpur|  597276|     S101|       N|1955-09-16|1958-05-31|\n|SUBID10019|      null|     Maurya|     Sharaf Nagar|1924-11-09|Female|+91 8906694405|  India|            Jabalpur|  958538|     S104|       N|1944-11-09|1951-10-14|\n+----------+----------+-----------+-----------------+----------+------+--------------+-------+--------------------+--------+---------+--------+----------+----------+\nonly showing top 20 rows\n\nSchema of patient_records_df:\nroot\n |-- Patient_id: integer (nullable = true)\n |-- Patient_name: string (nullable = true)\n |-- patient_gender: string (nullable = true)\n |-- patient_birth_date: date (nullable = true)\n |-- patient_phone: string (nullable = true)\n |-- disease_name: string (nullable = true)\n |-- city: string (nullable = true)\n |-- hospital_id: string (nullable = true)\n\n+----------+------------+--------------+------------------+--------------+----------------+--------------------+-----------+\n|Patient_id|Patient_name|patient_gender|patient_birth_date| patient_phone|    disease_name|                city|hospital_id|\n+----------+------------+--------------+------------------+--------------+----------------+--------------------+-----------+\n|    187158|      Harbir|        Female|        1924-06-30|+91 0112009318|    Galactosemia|            Rourkela|      H1001|\n|    112766|    Brahmdev|        Female|        1948-12-20|+91 1727749552|  Bladder cancer|        Tiruvottiyur|      H1016|\n|    199252|     Ujjawal|          Male|        1980-04-16|+91 8547451606|   Kidney cancer|           Berhampur|      H1009|\n|    133424|     Ballari|        Female|        1969-09-25|+91 0106026841|         Suicide|        Bihar Sharif|      H1017|\n|    172579|     Devnath|        Female|        1946-05-01|+91 1868774631|    Food allergy|         Bidhannagar|      H1019|\n|    171320|       Atasi|          Male|        1967-10-02|+91 9747336855|        Whiplash|            Amravati|      H1013|\n|    107794|      Manish|          Male|        1967-06-06|+91 4354294043|      Sunbathing|              Panvel|      H1004|\n|    130339|       Aakar|        Female|        1925-03-05|+91 2777633911|Drug consumption|        Bihar Sharif|      H1000|\n|    110377|     Gurudas|          Male|        1945-05-06|+91 1232859381|          Dengue|           Kamarhati|      H1001|\n|    149367|        null|          Male|        1925-06-12|+91 1780763280|    Head banging|           Bangalore|      H1013|\n|    156168|        null|          Male|        1976-02-03|+91 5586075345| Fanconi anaemia|              Rajkot|      H1004|\n|    114241|        null|        Female|        1955-01-22|+91 4146391938|   Breast cancer|           Ghaziabad|      H1015|\n|    146382|  Dharmadaas|          Male|        1964-04-29|+91 6345482027|         Anthrax|Bhalswa Jahangir Pur|      H1019|\n|    132748|    Brahmvir|          Male|        1991-11-11|+91 7316972612| Cystic fibrosis|              Ambala|      H1018|\n|    167340|        null|        Female|        1981-01-25|+91 2960004518|    Galactosemia|Surendranagar Dud...|      H1003|\n|    135184|     Bhagvan|        Female|        1966-07-24|+91 0297693485|          Dengue|          Bhimavaram|      H1018|\n|    179662|   Amritkala|        Female|        1933-11-20|+91 0537157280|        Smallpox|              Meerut|      H1018|\n|    184479|      Bandhu|          Male|        1996-10-15|+91 0695289163|  Pollen allergy|           Chinsurah|      H1010|\n|    156988|  Bhagavaana|        Female|        1935-09-16|+91 6071745855|   Breast cancer|        Shahjahanpur|      H1012|\n|    132870|        null|        Female|        1924-11-09|+91 8906694405|        Glaucoma|            Jabalpur|      H1017|\n+----------+------------+--------------+------------------+--------------+----------------+--------------------+-----------+\nonly showing top 20 rows\n\n"
     ]
    }
   ],
   "source": [
    "# Print schema and display data for each DataFrame\n",
    "print(\"Schema of claims_df:\")\n",
    "claims_df.printSchema()\n",
    "claims_df.show()\n",
    "\n",
    "print(\"Schema of disease_df:\")\n",
    "disease_df.printSchema()\n",
    "disease_df.show()\n",
    "\n",
    "print(\"Schema of group_df:\")\n",
    "group_df.printSchema()\n",
    "group_df.show()\n",
    "\n",
    "print(\"Schema of grpsubgrp_df:\")\n",
    "grpsubgrp_df.printSchema()\n",
    "grpsubgrp_df.show()\n",
    "\n",
    "print(\"Schema of hospital_df:\")\n",
    "hospital_df.printSchema()\n",
    "hospital_df.show()\n",
    "\n",
    "print(\"Schema of subgroup_df:\")\n",
    "subgroup_df.printSchema()\n",
    "subgroup_df.show()\n",
    "\n",
    "print(\"Schema of subscriber_df:\")\n",
    "subscriber_df.printSchema()\n",
    "subscriber_df.show()\n",
    "\n",
    "print(\"Schema of patient_records_df:\")\n",
    "patient_records_df.printSchema()\n",
    "patient_records_df.show()"
   ]
  },
  {
   "cell_type": "code",
   "execution_count": 0,
   "metadata": {
    "application/vnd.databricks.v1+cell": {
     "cellMetadata": {
      "byteLimit": 2048000,
      "rowLimit": 10000
     },
     "inputWidgets": {},
     "nuid": "baf49a53-b37c-4299-a5f8-df9ec06d4411",
     "showTitle": false,
     "title": ""
    }
   },
   "outputs": [],
   "source": [
    "# DATA CLEANING\n",
    "# Data cleaning is the process of fixing or removing incorrect, corrupted, incorrectly formatted, duplicate, or incomplete data within a dataset. When combining multiple data sources, there are many opportunities for data to be duplicated or mislabeled. If data is incorrect, outcomes and algorithms are unreliable, even though they may look correct. There is no one absolute way to prescribe the exact steps in the data cleaning process because the processes will vary from dataset to dataset.\n",
    "# Cleaning Activity\n",
    "# First check if there are null values in dataset\n",
    "# Count the total Null values for each column\n",
    "# And then replace the null values for specific columns by NA \n",
    "# Check the If there are duplicates records\n",
    "# If there are duplicates then drop duplicates\n"
   ]
  },
  {
   "cell_type": "code",
   "execution_count": 0,
   "metadata": {
    "application/vnd.databricks.v1+cell": {
     "cellMetadata": {
      "byteLimit": 2048000,
      "rowLimit": 10000
     },
     "inputWidgets": {},
     "nuid": "f28d226b-c8e9-4853-be8b-b2aef5491341",
     "showTitle": false,
     "title": ""
    }
   },
   "outputs": [],
   "source": [
    "# TRANSFORM DATA\n",
    "\n",
    "# Function to clean a DataFrame\n",
    "def clean_data(df, df_name):\n",
    "    # 1. Replace empty strings with None (null)\n",
    "    df = df.replace('', None)\n",
    "    \n",
    "    # 2. Check for null values and count them for each column\n",
    "    null_counts = df.select([count(when(col(c).isNull(), c)).alias(c) for c in df.columns])\n",
    "    null_counts.show()\n",
    "    \n",
    "    # 3. Replace remaining null values with 'NA' for specific columns (customize as needed)\n",
    "    columns_to_replace = df.columns\n",
    "    df = df.fillna(\"NA\", subset=columns_to_replace)\n",
    "    \n",
    "    # 4. Check for duplicates and drop duplicates\n",
    "    initial_count = df.count()\n",
    "    df = df.dropDuplicates()\n",
    "    final_count = df.count()\n",
    "    \n",
    "    print(f\"Number of duplicates dropped in {df_name}: {initial_count - final_count}\")\n",
    "    \n",
    "    return df"
   ]
  },
  {
   "cell_type": "code",
   "execution_count": 0,
   "metadata": {
    "application/vnd.databricks.v1+cell": {
     "cellMetadata": {
      "byteLimit": 2048000,
      "rowLimit": 10000
     },
     "inputWidgets": {},
     "nuid": "828e63bb-bb89-4e57-8b6d-3cc1634f7dd2",
     "showTitle": false,
     "title": ""
    }
   },
   "outputs": [],
   "source": [
    "# Clean data for at least for following datasets\n",
    "# Patients\n",
    "# Subscriber\n",
    "# Claims\n",
    "# Group_subgroup"
   ]
  },
  {
   "cell_type": "code",
   "execution_count": 0,
   "metadata": {
    "application/vnd.databricks.v1+cell": {
     "cellMetadata": {
      "byteLimit": 2048000,
      "rowLimit": 10000
     },
     "inputWidgets": {},
     "nuid": "6046cab5-1802-4755-add7-c465f99cc144",
     "showTitle": false,
     "title": ""
    }
   },
   "outputs": [
    {
     "output_type": "stream",
     "name": "stdout",
     "output_type": "stream",
     "text": [
      "+-----------------+------+------------+----------+--------+----------+------------+----------+\n|Claim_Or_Rejected|SUB_ID|claim_amount|claim_date|claim_id|claim_type|disease_name|patient_id|\n+-----------------+------+------------+----------+--------+----------+------------+----------+\n|                0|     0|           0|         0|       0|         0|           0|         0|\n+-----------------+------+------------+----------+--------+----------+------------+----------+\n\nNumber of duplicates dropped in claims_df: 0\n+--------+-----------+------------+\n|SubGrpID| Disease_ID|Disease_name|\n+--------+-----------+------------+\n|       0|          0|           0|\n+--------+-----------+------------+\n\nNumber of duplicates dropped in disease_df: 0\n+-------+---------------+-------+------+--------+--------+----+----+\n|Country|premium_written|zipcode|Grp_Id|Grp_Name|Grp_Type|city|year|\n+-------+---------------+-------+------+--------+--------+----+----+\n|      0|              0|      0|     0|       0|       0|   0|   0|\n+-------+---------------+-------+------+--------+--------+----+----+\n\nNumber of duplicates dropped in group_df: 0\n+---------+------+\n|SubGrp_ID|Grp_Id|\n+---------+------+\n|        0|     0|\n+---------+------+\n\nNumber of duplicates dropped in grpsubgrp_df: 0\n+-----------+-------------+----+-----+-------+\n|Hospital_id|Hospital_name|city|state|country|\n+-----------+-------------+----+-----+-------+\n|          0|            0|   0|    0|      0|\n+-----------+-------------+----+-----+-------+\n\nNumber of duplicates dropped in hospital_df: 0\n+---------+-----------+---------------+\n|SubGrp_id|SubGrp_Name|Monthly_Premium|\n+---------+-----------+---------------+\n|        0|          0|              0|\n+---------+-----------+---------------+\n\nNumber of duplicates dropped in subgroup_df: 0\n+-------+----------+---------+------+----------+------+-----+-------+----+--------+---------+--------+--------+---------+\n|sub _id|first_name|last_name|Street|Birth_date|Gender|Phone|Country|City|Zip Code|Subgrp_id|Elig_ind|eff_date|term_date|\n+-------+----------+---------+------+----------+------+-----+-------+----+--------+---------+--------+--------+---------+\n|      0|        27|        0|     0|         0|     0|    3|      0|   0|       0|        2|       4|       0|        0|\n+-------+----------+---------+------+----------+------+-----+-------+----+--------+---------+--------+--------+---------+\n\nNumber of duplicates dropped in subscriber_df: 0\n+----------+------------+--------------+------------------+-------------+------------+----+-----------+\n|Patient_id|Patient_name|patient_gender|patient_birth_date|patient_phone|disease_name|city|hospital_id|\n+----------+------------+--------------+------------------+-------------+------------+----+-----------+\n|         0|          17|             0|                 0|            2|           0|   0|          0|\n+----------+------------+--------------+------------------+-------------+------------+----+-----------+\n\nNumber of duplicates dropped in patient_records_df: 0\n"
     ]
    }
   ],
   "source": [
    "# Clean each DataFrame using user defined function clean_data()\n",
    "claims_df_cleaned = clean_data(claims_df, \"claims_df\")\n",
    "disease_df_cleaned = clean_data(disease_df, \"disease_df\")\n",
    "group_df_cleaned = clean_data(group_df, \"group_df\")\n",
    "grpsubgrp_df_cleaned = clean_data(grpsubgrp_df, \"grpsubgrp_df\")\n",
    "hospital_df_cleaned = clean_data(hospital_df, \"hospital_df\")\n",
    "subgroup_df_cleaned = clean_data(subgroup_df, \"subgroup_df\")\n",
    "subscriber_df_cleaned = clean_data(subscriber_df, \"subscriber_df\")\n",
    "patient_records_df_cleaned = clean_data(patient_records_df, \"patient_records_df\")"
   ]
  },
  {
   "cell_type": "code",
   "execution_count": 0,
   "metadata": {
    "application/vnd.databricks.v1+cell": {
     "cellMetadata": {
      "byteLimit": 2048000,
      "rowLimit": 10000
     },
     "inputWidgets": {},
     "nuid": "a4e00ff8-ef9a-4ff7-ba42-de38d1528b25",
     "showTitle": false,
     "title": ""
    }
   },
   "outputs": [
    {
     "output_type": "stream",
     "name": "stdout",
     "output_type": "stream",
     "text": [
      "+----------+------------+--------------+------------------+--------------+----------------+--------------------+-----------+\n|Patient_id|Patient_name|patient_gender|patient_birth_date| patient_phone|    disease_name|                city|hospital_id|\n+----------+------------+--------------+------------------+--------------+----------------+--------------------+-----------+\n|    187158|      Harbir|        Female|        1924-06-30|+91 0112009318|    Galactosemia|            Rourkela|      H1001|\n|    112766|    Brahmdev|        Female|        1948-12-20|+91 1727749552|  Bladder cancer|        Tiruvottiyur|      H1016|\n|    199252|     Ujjawal|          Male|        1980-04-16|+91 8547451606|   Kidney cancer|           Berhampur|      H1009|\n|    133424|     Ballari|        Female|        1969-09-25|+91 0106026841|         Suicide|        Bihar Sharif|      H1017|\n|    172579|     Devnath|        Female|        1946-05-01|+91 1868774631|    Food allergy|         Bidhannagar|      H1019|\n|    171320|       Atasi|          Male|        1967-10-02|+91 9747336855|        Whiplash|            Amravati|      H1013|\n|    107794|      Manish|          Male|        1967-06-06|+91 4354294043|      Sunbathing|              Panvel|      H1004|\n|    130339|       Aakar|        Female|        1925-03-05|+91 2777633911|Drug consumption|        Bihar Sharif|      H1000|\n|    110377|     Gurudas|          Male|        1945-05-06|+91 1232859381|          Dengue|           Kamarhati|      H1001|\n|    149367|        null|          Male|        1925-06-12|+91 1780763280|    Head banging|           Bangalore|      H1013|\n|    156168|        null|          Male|        1976-02-03|+91 5586075345| Fanconi anaemia|              Rajkot|      H1004|\n|    114241|        null|        Female|        1955-01-22|+91 4146391938|   Breast cancer|           Ghaziabad|      H1015|\n|    146382|  Dharmadaas|          Male|        1964-04-29|+91 6345482027|         Anthrax|Bhalswa Jahangir Pur|      H1019|\n|    132748|    Brahmvir|          Male|        1991-11-11|+91 7316972612| Cystic fibrosis|              Ambala|      H1018|\n|    167340|        null|        Female|        1981-01-25|+91 2960004518|    Galactosemia|Surendranagar Dud...|      H1003|\n|    135184|     Bhagvan|        Female|        1966-07-24|+91 0297693485|          Dengue|          Bhimavaram|      H1018|\n|    179662|   Amritkala|        Female|        1933-11-20|+91 0537157280|        Smallpox|              Meerut|      H1018|\n|    184479|      Bandhu|          Male|        1996-10-15|+91 0695289163|  Pollen allergy|           Chinsurah|      H1010|\n|    156988|  Bhagavaana|        Female|        1935-09-16|+91 6071745855|   Breast cancer|        Shahjahanpur|      H1012|\n|    132870|        null|        Female|        1924-11-09|+91 8906694405|        Glaucoma|            Jabalpur|      H1017|\n+----------+------------+--------------+------------------+--------------+----------------+--------------------+-----------+\nonly showing top 20 rows\n\n"
     ]
    }
   ],
   "source": [
    "# Before Cleaning\n",
    "patient_records_df.show()"
   ]
  },
  {
   "cell_type": "code",
   "execution_count": 0,
   "metadata": {
    "application/vnd.databricks.v1+cell": {
     "cellMetadata": {
      "byteLimit": 2048000,
      "rowLimit": 10000
     },
     "inputWidgets": {},
     "nuid": "0f3aa7d5-311a-4264-aa18-cf8b41c880ae",
     "showTitle": false,
     "title": ""
    }
   },
   "outputs": [
    {
     "output_type": "stream",
     "name": "stdout",
     "output_type": "stream",
     "text": [
      "+----------+------------+--------------+------------------+--------------+----------------+--------------------+-----------+\n|Patient_id|Patient_name|patient_gender|patient_birth_date| patient_phone|    disease_name|                city|hospital_id|\n+----------+------------+--------------+------------------+--------------+----------------+--------------------+-----------+\n|    167340|          NA|        Female|        1981-01-25|+91 2960004518|    Galactosemia|Surendranagar Dud...|      H1003|\n|    156168|          NA|          Male|        1976-02-03|+91 5586075345| Fanconi anaemia|              Rajkot|      H1004|\n|    132748|    Brahmvir|          Male|        1991-11-11|+91 7316972612| Cystic fibrosis|              Ambala|      H1018|\n|    172579|     Devnath|        Female|        1946-05-01|+91 1868774631|    Food allergy|         Bidhannagar|      H1019|\n|    146382|  Dharmadaas|          Male|        1964-04-29|+91 6345482027|         Anthrax|Bhalswa Jahangir Pur|      H1019|\n|    114241|          NA|        Female|        1955-01-22|+91 4146391938|   Breast cancer|           Ghaziabad|      H1015|\n|    148137|       Umang|        Female|        1963-07-14|+91 9485838770|     Pet allergy|            Haridwar|      H1002|\n|    171320|       Atasi|          Male|        1967-10-02|+91 9747336855|        Whiplash|            Amravati|      H1013|\n|    187158|      Harbir|        Female|        1924-06-30|+91 0112009318|    Galactosemia|            Rourkela|      H1001|\n|    199252|     Ujjawal|          Male|        1980-04-16|+91 8547451606|   Kidney cancer|           Berhampur|      H1009|\n|    149367|          NA|          Male|        1925-06-12|+91 1780763280|    Head banging|           Bangalore|      H1013|\n|    133424|     Ballari|        Female|        1969-09-25|+91 0106026841|         Suicide|        Bihar Sharif|      H1017|\n|    130339|       Aakar|        Female|        1925-03-05|+91 2777633911|Drug consumption|        Bihar Sharif|      H1000|\n|    156988|  Bhagavaana|        Female|        1935-09-16|+91 6071745855|   Breast cancer|        Shahjahanpur|      H1012|\n|    112766|    Brahmdev|        Female|        1948-12-20|+91 1727749552|  Bladder cancer|        Tiruvottiyur|      H1016|\n|    107794|      Manish|          Male|        1967-06-06|+91 4354294043|      Sunbathing|              Panvel|      H1004|\n|    110377|     Gurudas|          Male|        1945-05-06|+91 1232859381|          Dengue|           Kamarhati|      H1001|\n|    132870|          NA|        Female|        1924-11-09|+91 8906694405|        Glaucoma|            Jabalpur|      H1017|\n|    179662|   Amritkala|        Female|        1933-11-20|+91 0537157280|        Smallpox|              Meerut|      H1018|\n|    184479|      Bandhu|          Male|        1996-10-15|+91 0695289163|  Pollen allergy|           Chinsurah|      H1010|\n+----------+------------+--------------+------------------+--------------+----------------+--------------------+-----------+\nonly showing top 20 rows\n\n"
     ]
    }
   ],
   "source": [
    "# After Cleaning\n",
    "patient_records_df_cleaned.show()"
   ]
  },
  {
   "cell_type": "code",
   "execution_count": 0,
   "metadata": {
    "application/vnd.databricks.v1+cell": {
     "cellMetadata": {
      "byteLimit": 2048000,
      "rowLimit": 10000
     },
     "inputWidgets": {},
     "nuid": "a0b198cc-c9f5-4c9a-b2b0-388ca8dad979",
     "showTitle": false,
     "title": ""
    }
   },
   "outputs": [],
   "source": [
    "# WRITING DATA"
   ]
  },
  {
   "cell_type": "code",
   "execution_count": 0,
   "metadata": {
    "application/vnd.databricks.v1+cell": {
     "cellMetadata": {
      "byteLimit": 2048000,
      "rowLimit": 10000
     },
     "inputWidgets": {},
     "nuid": "625a1c12-0e75-48bb-af6a-6395c2bc73a2",
     "showTitle": false,
     "title": ""
    }
   },
   "outputs": [],
   "source": [
    "# # Writing the cleaned data to AWS S3\n",
    "claims_df_cleaned.write.option(\"header\", \"true\").mode(\"overwrite\").csv(\"s3a://health-insurance-capstone/clean-data/claims\")\n",
    "disease_df_cleaned.write.option(\"header\", \"true\").mode(\"overwrite\").csv(\"s3a://health-insurance-capstone/clean-data/disease\")\n",
    "group_df_cleaned.write.option(\"header\", \"true\").mode(\"overwrite\").csv(\"s3a://health-insurance-capstone/clean-data/group\")\n",
    "grpsubgrp_df_cleaned.write.option(\"header\", \"true\").mode(\"overwrite\").csv(\"s3a://health-insurance-capstone/clean-data/grpsubgrp\")\n",
    "hospital_df_cleaned.write.option(\"header\", \"true\").mode(\"overwrite\").csv(\"s3a://health-insurance-capstone/clean-data/hospital\")\n",
    "subgroup_df_cleaned.write.option(\"header\", \"true\").mode(\"overwrite\").csv(\"s3a://health-insurance-capstone/clean-data/subgroup\")\n",
    "subscriber_df_cleaned.write.option(\"header\", \"true\").mode(\"overwrite\").csv(\"s3a://health-insurance-capstone/clean-data/subscriber\")\n",
    "patient_records_df_cleaned.write.option(\"header\", \"true\").mode(\"overwrite\").csv(\"s3a://health-insurance-capstone/clean-data/patient\")"
   ]
  },
  {
   "cell_type": "code",
   "execution_count": 0,
   "metadata": {
    "application/vnd.databricks.v1+cell": {
     "cellMetadata": {
      "byteLimit": 2048000,
      "rowLimit": 10000
     },
     "inputWidgets": {},
     "nuid": "4de25257-34e1-4302-a56c-dffae63aec63",
     "showTitle": false,
     "title": ""
    }
   },
   "outputs": [],
   "source": [
    "# LIST OF REQUIREMENTS\n",
    "# Which disease has a maximum number of claims.\n",
    "# Find those Subscribers having age less than 30 and they subscribe any subgroup\n",
    "# Find out which group has maximum subgroups.\n",
    "# Find out hospital which serve most number of patients\n",
    "# Find out which subgroups subscribe most number of times\n",
    "# Find out total number of claims which were rejected\n",
    "# From where most claims are coming (city)\n",
    "# Which groups of policies subscriber subscribe mostly Government or private\n",
    "# Average monthly premium subscriber pay to insurance company.\n",
    "# Find out Which group is most profitable\n",
    "# List all the patients below age of 18 who admit for cancer\n",
    "# List patients who have cashless insurance and have total charges greater than or equal for Rs. 50,000.\n",
    "# List female patients over the age of 40 that have undergone knee surgery in the past year\n"
   ]
  },
  {
   "cell_type": "code",
   "execution_count": 0,
   "metadata": {
    "application/vnd.databricks.v1+cell": {
     "cellMetadata": {
      "byteLimit": 2048000,
      "rowLimit": 10000
     },
     "inputWidgets": {},
     "nuid": "2ac7924f-e33e-4627-b26e-3a86bcc4bebd",
     "showTitle": false,
     "title": ""
    }
   },
   "outputs": [
    {
     "output_type": "stream",
     "name": "stdout",
     "output_type": "stream",
     "text": [
      "+------------+-----+\n|disease_name|count|\n+------------+-----+\n| Pet allergy|    3|\n+------------+-----+\n\n"
     ]
    }
   ],
   "source": [
    "# 1. Disease with maximum number of claim\n",
    "\n",
    "from pyspark.sql.functions import col\n",
    "\n",
    "# Group by disease_name and count the occurrences, then get the one with the maximum count\n",
    "max_claims_disease_df = claims_df_cleaned.groupBy(\"disease_name\") \\\n",
    "    .count() \\\n",
    "    .orderBy(col(\"count\").desc()) \\\n",
    "    .limit(1)\n",
    "\n",
    "# Display the result\n",
    "max_claims_disease_df.show()\n",
    "\n",
    "# Saving as a permanent table\n",
    "permanent_table_name = \"max_claims_disease\"\n",
    "max_claims_disease_df.write.mode(\"overwrite\").saveAsTable(permanent_table_name)\n"
   ]
  },
  {
   "cell_type": "code",
   "execution_count": 0,
   "metadata": {
    "application/vnd.databricks.v1+cell": {
     "cellMetadata": {
      "byteLimit": 2048000,
      "rowLimit": 10000
     },
     "inputWidgets": {},
     "nuid": "8200a094-6d38-4214-8260-e6854c701c8b",
     "showTitle": false,
     "title": ""
    }
   },
   "outputs": [
    {
     "output_type": "stream",
     "name": "stdout",
     "output_type": "stream",
     "text": [
      "+----------+------------+---------+-----------------+----------+------+--------------+-------+-----------+--------+---------+--------+----------+----------+\n|   sub _id|  first_name|last_name|           Street|Birth_date|Gender|         Phone|Country|       City|Zip Code|Subgrp_id|Elig_ind|  eff_date| term_date|\n+----------+------------+---------+-----------------+----------+------+--------------+-------+-----------+--------+---------+--------+----------+----------+\n|SUBID10017|      Bandhu|     Seth|        Varughese|1996-10-15|  Male|+91 0695289163|  India|  Chinsurah|  136713|     S108|       N|2016-10-15|2018-06-08|\n|SUBID10083|  Bhilangana|   Pandit|Ramachandran Path|1995-01-04|Female|+91 6653069630|  India|   Fatehpur|  359466|     S109|       Y|2015-01-04|2017-10-05|\n|SUBID10093|Chandavarman|    Singh|    Sarkar Circle|1997-05-10|Others|+91 6559031791|  India|Navi Mumbai|   83240|     S110|       N|2017-05-10|2022-08-27|\n+----------+------------+---------+-----------------+----------+------+--------------+-------+-----------+--------+---------+--------+----------+----------+\n\n"
     ]
    }
   ],
   "source": [
    "# 2. Subscribers under age 30 subscribing to any subgroup\n",
    "from pyspark.sql.functions import datediff, current_date\n",
    "\n",
    "subscribers_under_30_df = subscriber_df.join(subgroup_df, subscriber_df[\"Subgrp_id\"] == subgroup_df[\"SubGrp_id\"]) \\\n",
    "    .filter(datediff(current_date(), col(\"Birth_date\")) / 365 < 30) \\\n",
    "    .select(subscriber_df[\"*\"])\n",
    "\n",
    "subscribers_under_30_df.show()\n",
    "\n",
    "#Saving as a permanent table\n",
    "permanent_table_name = \"subscribers_under_30_df\"\n",
    "subscribers_under_30_df.write.format(\"csv\").mode(\"overwrite\").saveAsTable(permanent_table_name)\n"
   ]
  },
  {
   "cell_type": "code",
   "execution_count": 0,
   "metadata": {
    "application/vnd.databricks.v1+cell": {
     "cellMetadata": {
      "byteLimit": 2048000,
      "rowLimit": 10000
     },
     "inputWidgets": {},
     "nuid": "f6212bc2-fdd6-4388-bbaa-19999661a898",
     "showTitle": false,
     "title": ""
    }
   },
   "outputs": [
    {
     "output_type": "stream",
     "name": "stdout",
     "output_type": "stream",
     "text": [
      "+------+-----+\n|Grp_Id|count|\n+------+-----+\n|GRP104|    2|\n+------+-----+\n\n"
     ]
    }
   ],
   "source": [
    "# 3. Group with maximum subgroup\n",
    "# Group by Grp_Id and count the subgroups, then get the one with the maximum count\n",
    "max_subgroup_group_df = grpsubgrp_df.groupBy(\"Grp_Id\") \\\n",
    "    .count() \\\n",
    "    .orderBy(col(\"count\").desc()) \\\n",
    "    .limit(1)\n",
    "\n",
    "# Display the result\n",
    "max_subgroup_group_df.show()\n",
    "\n",
    "# Saving as a permanent table\n",
    "permanent_table_name = \"max_subgroup_group\"\n",
    "max_subgroup_group_df.write.mode(\"overwrite\").saveAsTable(permanent_table_name)\n"
   ]
  },
  {
   "cell_type": "code",
   "execution_count": 0,
   "metadata": {
    "application/vnd.databricks.v1+cell": {
     "cellMetadata": {
      "byteLimit": 2048000,
      "rowLimit": 10000
     },
     "inputWidgets": {},
     "nuid": "36fa1548-4282-4504-9426-c4ad0aa75fa8",
     "showTitle": false,
     "title": ""
    }
   },
   "outputs": [
    {
     "output_type": "stream",
     "name": "stdout",
     "output_type": "stream",
     "text": [
      "+-----------+-----+\n|hospital_id|count|\n+-----------+-----+\n|      H1017|    9|\n+-----------+-----+\n\n"
     ]
    }
   ],
   "source": [
    "from pyspark.sql.functions import col\n",
    "\n",
    "# Group by hospital_id and count the patients, then get the hospital with the maximum count\n",
    "most_patients_hospital_df = patient_records_df.groupBy(\"hospital_id\") \\\n",
    "    .count() \\\n",
    "    .orderBy(col(\"count\").desc()) \\\n",
    "    .limit(1)\n",
    "\n",
    "# Display the result\n",
    "most_patients_hospital_df.show()\n",
    "\n",
    "# Saving as a permanent table\n",
    "permanent_table_name = \"most_patients_hospital\"\n",
    "most_patients_hospital_df.write.mode(\"overwrite\").saveAsTable(permanent_table_name)\n"
   ]
  },
  {
   "cell_type": "code",
   "execution_count": 0,
   "metadata": {
    "application/vnd.databricks.v1+cell": {
     "cellMetadata": {
      "byteLimit": 2048000,
      "rowLimit": 10000
     },
     "inputWidgets": {},
     "nuid": "6c8817d9-a954-4b58-8e22-319d9ad45b04",
     "showTitle": false,
     "title": ""
    }
   },
   "outputs": [
    {
     "output_type": "stream",
     "name": "stdout",
     "output_type": "stream",
     "text": [
      "+---------+-----+\n|Subgrp_id|count|\n+---------+-----+\n|     S104|   13|\n+---------+-----+\n\n"
     ]
    }
   ],
   "source": [
    "# 5. Subgroup subscribed most number of times\n",
    "from pyspark.sql.functions import col\n",
    "\n",
    "# Group by Subgrp_id and count the occurrences, then get the one with the maximum count\n",
    "most_subscribed_subgroup_df = subscriber_df.groupBy(\"Subgrp_id\") \\\n",
    "    .count() \\\n",
    "    .orderBy(col(\"count\").desc()) \\\n",
    "    .limit(1)\n",
    "\n",
    "# Display the result\n",
    "most_subscribed_subgroup_df.show()\n",
    "\n",
    "# Saving as a permanent table\n",
    "permanent_table_name = \"most_subscribed_subgroup\"\n",
    "most_subscribed_subgroup_df.write.mode(\"overwrite\").saveAsTable(permanent_table_name)"
   ]
  },
  {
   "cell_type": "code",
   "execution_count": 0,
   "metadata": {
    "application/vnd.databricks.v1+cell": {
     "cellMetadata": {
      "byteLimit": 2048000,
      "rowLimit": 10000
     },
     "inputWidgets": {},
     "nuid": "fc8f30e6-9174-4536-93dc-d9a951dcf04d",
     "showTitle": false,
     "title": ""
    }
   },
   "outputs": [
    {
     "output_type": "stream",
     "name": "stdout",
     "output_type": "stream",
     "text": [
      "+---------------------+\n|total_rejected_claims|\n+---------------------+\n|                    0|\n+---------------------+\n\n"
     ]
    }
   ],
   "source": [
    "# 6. Total number of claims which were rejected\n",
    "from pyspark.sql import Row\n",
    "\n",
    "total_rejected_claims = claims_df.filter(col(\"Claim_Or_Rejected\") == \"Rejected\") \\\n",
    "    .count()\n",
    "#print(\"Total number of rejected claims:\", total_rejected_claims)\n",
    "# Convert the count to a DataFrame\n",
    "total_rejected_claims_df = spark.createDataFrame([Row(total_rejected_claims=total_rejected_claims)])\n",
    "\n",
    "# Display the result\n",
    "total_rejected_claims_df.show()\n",
    "\n",
    "# Saving as a permanent table\n",
    "permanent_table_name = \"total_rejected_claims\"\n",
    "total_rejected_claims_df.write.mode(\"overwrite\").saveAsTable(permanent_table_name)\n"
   ]
  },
  {
   "cell_type": "code",
   "execution_count": 0,
   "metadata": {
    "application/vnd.databricks.v1+cell": {
     "cellMetadata": {
      "byteLimit": 2048000,
      "rowLimit": 10000
     },
     "inputWidgets": {},
     "nuid": "d1a470b5-5ace-4934-b3b8-017c0e34db66",
     "showTitle": false,
     "title": ""
    }
   },
   "outputs": [
    {
     "output_type": "stream",
     "name": "stdout",
     "output_type": "stream",
     "text": [
      "City with most claims: Mysore\n+------+-----+\n|  City|count|\n+------+-----+\n|Mysore|    2|\n+------+-----+\n\n"
     ]
    }
   ],
   "source": [
    "# 7. Join claims_df with subscriber_df to get city information for claims\n",
    "from pyspark.sql.functions import count, avg, year, current_date, desc\n",
    "claims_with_city_df = claims_df.join(subscriber_df, claims_df.SUB_ID == subscriber_df[\"sub _id\"], \"left\")\n",
    "\n",
    "# City with most claims\n",
    "city_most_claims = claims_with_city_df.groupBy(\"City\").count().orderBy(desc(\"count\")).first()\n",
    "print(f\"City with most claims: {city_most_claims['City']}\")\n",
    "\n",
    "# Convert to DataFrame\n",
    "city_most_claims_df = spark.createDataFrame([city_most_claims])\n",
    "\n",
    "# Display the result\n",
    "city_most_claims_df.show()\n",
    "\n",
    "#Saving as a permanent table\n",
    "permanent_table_name = \"city_most_claims\"\n",
    "city_most_claims_df.write.format(\"csv\").mode(\"overwrite\").saveAsTable(permanent_table_name)"
   ]
  },
  {
   "cell_type": "code",
   "execution_count": 0,
   "metadata": {
    "application/vnd.databricks.v1+cell": {
     "cellMetadata": {
      "byteLimit": 2048000,
      "rowLimit": 10000
     },
     "inputWidgets": {},
     "nuid": "1f4ea3af-4534-4210-b9a3-f7661c426ca2",
     "showTitle": false,
     "title": ""
    }
   },
   "outputs": [
    {
     "output_type": "stream",
     "name": "stdout",
     "output_type": "stream",
     "text": [
      "+--------+-----+\n|Elig_ind|count|\n+--------+-----+\n|       N|   50|\n|       Y|   46|\n|    null|    4|\n+--------+-----+\n\n"
     ]
    }
   ],
   "source": [
    "# 8. Government or private policy subscriptions\n",
    "policy_type_subscription = subscriber_df.groupBy(\"Elig_ind\").count().orderBy(desc(\"count\"))\n",
    "policy_type_subscription.show()\n",
    "\n",
    "#Saving as a permanent table\n",
    "permanent_table_name = \"policy_type_subscription\"\n",
    "policy_type_subscription.write.format(\"csv\").mode(\"overwrite\").saveAsTable(permanent_table_name)"
   ]
  },
  {
   "cell_type": "code",
   "execution_count": 0,
   "metadata": {
    "application/vnd.databricks.v1+cell": {
     "cellMetadata": {
      "byteLimit": 2048000,
      "rowLimit": 10000
     },
     "inputWidgets": {},
     "nuid": "d97aa6e2-4b6f-4ef8-862b-50012c1c390c",
     "showTitle": false,
     "title": ""
    }
   },
   "outputs": [
    {
     "output_type": "stream",
     "name": "stdout",
     "output_type": "stream",
     "text": [
      "Average monthly premium paid by subscribers: 1870.0\n+--------------------+\n|avg(Monthly_Premium)|\n+--------------------+\n|              1870.0|\n+--------------------+\n\n"
     ]
    }
   ],
   "source": [
    "# 9. Average monthly premium paid by subscribers\n",
    "avg_monthly_premium = subgroup_df.select(avg(\"Monthly_Premium\")).first()\n",
    "print(f\"Average monthly premium paid by subscribers: {avg_monthly_premium['avg(Monthly_Premium)']}\")\n",
    "\n",
    "# Convert to DataFrame\n",
    "avg_monthly_premium_df = spark.createDataFrame([avg_monthly_premium])\n",
    "\n",
    "# Display the result\n",
    "avg_monthly_premium_df.show()\n",
    "\n",
    "#Saving as a permanent table\n",
    "permanent_table_name = \"avg_monthly_premium\"\n",
    "avg_monthly_premium_df.write.format(\"csv\").mode(\"overwrite\").saveAsTable(permanent_table_name)\n"
   ]
  },
  {
   "cell_type": "code",
   "execution_count": 0,
   "metadata": {
    "application/vnd.databricks.v1+cell": {
     "cellMetadata": {
      "byteLimit": 2048000,
      "rowLimit": 10000
     },
     "inputWidgets": {},
     "nuid": "02cd1328-6432-4187-8f81-b57c45842373",
     "showTitle": false,
     "title": ""
    }
   },
   "outputs": [
    {
     "output_type": "stream",
     "name": "stdout",
     "output_type": "stream",
     "text": [
      "Most profitable group: GRP131\n+------+-------------+\n|Grp_Id|total_premium|\n+------+-------------+\n|GRP131|        99000|\n+------+-------------+\n\n"
     ]
    }
   ],
   "source": [
    "# 10. Most profitable group\n",
    "\n",
    "most_profitable_group = group_df.groupBy(\"Grp_Id\") \\\n",
    "    .agg(sum(\"premium_written\").alias(\"total_premium\")) \\\n",
    "    .orderBy(col(\"total_premium\").desc()) \\\n",
    "    .first()\n",
    "\n",
    "print(\"Most profitable group:\", most_profitable_group[\"Grp_Id\"])\n",
    "\n",
    "# Convert to DataFrame\n",
    "most_profitable_group_df = spark.createDataFrame([most_profitable_group])\n",
    "\n",
    "# Display the result\n",
    "most_profitable_group_df.show()\n",
    "\n",
    "#Saving as a permanent table\n",
    "permanent_table_name = \"most_profitable_group\"\n",
    "most_profitable_group_df.write.format(\"csv\").mode(\"overwrite\").saveAsTable(permanent_table_name)"
   ]
  },
  {
   "cell_type": "code",
   "execution_count": 0,
   "metadata": {
    "application/vnd.databricks.v1+cell": {
     "cellMetadata": {
      "byteLimit": 2048000,
      "rowLimit": 10000
     },
     "inputWidgets": {},
     "nuid": "edc4b0ff-ac88-49fd-8416-5eec9389a8bc",
     "showTitle": false,
     "title": ""
    }
   },
   "outputs": [
    {
     "output_type": "stream",
     "name": "stdout",
     "output_type": "stream",
     "text": [
      "+----------+------------+--------------+------------------+-------------+------------+----+-----------+\n|Patient_id|Patient_name|patient_gender|patient_birth_date|patient_phone|disease_name|city|hospital_id|\n+----------+------------+--------------+------------------+-------------+------------+----+-----------+\n+----------+------------+--------------+------------------+-------------+------------+----+-----------+\n\n"
     ]
    }
   ],
   "source": [
    "# 11. Patients below age of 18 admitted for cancer\n",
    "from pyspark.sql.functions import sum as spark_sum\n",
    "\n",
    "# Filter patients below 18 with cancer\n",
    "patients_below_18_cancer = patient_records_df.filter(\n",
    "    (col(\"disease_name\").contains(\"cancer\")) &\n",
    "    (datediff(current_date(), col(\"patient_birth_date\")) / 365 < 18)\n",
    ")\n",
    "\n",
    "# Display the result\n",
    "patients_below_18_cancer.show()\n",
    "\n",
    "#Saving as a permanent table\n",
    "permanent_table_name = \"patients_below_18_cancer\"\n",
    "patients_below_18_cancer.write.format(\"csv\").mode(\"overwrite\").saveAsTable(permanent_table_name)"
   ]
  },
  {
   "cell_type": "code",
   "execution_count": 0,
   "metadata": {
    "application/vnd.databricks.v1+cell": {
     "cellMetadata": {
      "byteLimit": 2048000,
      "rowLimit": 10000
     },
     "inputWidgets": {},
     "nuid": "4da96c56-492c-4557-9fdf-d16e2ddbe2a4",
     "showTitle": false,
     "title": ""
    }
   },
   "outputs": [
    {
     "output_type": "stream",
     "name": "stdout",
     "output_type": "stream",
     "text": [
      "+-----------------+----------+------------+----------+--------+----------------+----------------+----------+\n|Claim_Or_Rejected|    SUB_ID|claim_amount|claim_date|claim_id|      claim_type|    disease_name|patient_id|\n+-----------------+----------+------------+----------+--------+----------------+----------------+----------+\n|                N|SUBID10016|       42860|1955-01-20|      16| claims of value|        Smallpox|    179662|\n|                N| SUBID1010|       29150|1999-01-25|      10| claims of value| Fanconi anaemia|    156168|\n|                N|SUBID10017|      161786|2017-06-01|      17|claims of policy|  Pollen allergy|    184479|\n|                Y|SUBID10011|       40897|1975-02-08|      11| claims of value|   Breast cancer|    114241|\n|                Y|SUBID10015|      100224|1986-08-02|      15| claims of value|          Dengue|    135184|\n|              NaN|SUBID10018|       66129|1956-01-04|      18|  claims of fact|   Breast cancer|    156988|\n|                Y| SUBID1020|      105982|1984-04-10|      20| claims of value|     Pet allergy|    148137|\n|                N|SUBID10008|      141123|1966-06-20|       8|  claims of fact|          Dengue|    110377|\n|              NaN|SUBID10001|      151142|1970-03-16|       1|claims of policy|  Bladder cancer|    112766|\n|              NaN|SUBID10012|       75983|1985-02-12|      12| claims of value|         Anthrax|    146382|\n|              NaN|SUBID10007|      177186|1946-09-05|       7| claims of value|Drug consumption|    130339|\n|                N|SUBID10009|       88540|1945-12-29|       9| claims of value|    Head banging|    149367|\n|              NaN|SUBID10005|       64840|1991-10-04|       5|claims of policy|        Whiplash|    171320|\n|                N| SUBID1006|       26800|1991-03-26|       6|  claims of fact|      Sunbathing|    107794|\n|                Y|SUBID10004|      168634|1967-05-23|       4| claims of value|    Food allergy|    172579|\n|                N|SUBID10014|      118628|2003-12-18|      14| claims of value|    Galactosemia|    167340|\n|              NaN|SUBID10003|      143120|1995-02-08|       3|  claims of fact|         Suicide|    133424|\n|              NaN|SUBID10013|      192340|2014-07-30|      13|  claims of fact| Cystic fibrosis|    132748|\n|              NaN|SUBID10002|       59924|2008-02-03|       2| claims of value|   Kidney cancer|    199252|\n|                N| SUBID1000|       79874|1949-03-14|       0| claims of value|    Galactosemia|    187158|\n+-----------------+----------+------------+----------+--------+----------------+----------------+----------+\nonly showing top 20 rows\n\n+----------+------------+--------------+------------------+--------------+----------------+--------------------+-----------+\n|Patient_id|Patient_name|patient_gender|patient_birth_date| patient_phone|    disease_name|                city|hospital_id|\n+----------+------------+--------------+------------------+--------------+----------------+--------------------+-----------+\n|    167340|          NA|        Female|        1981-01-25|+91 2960004518|    Galactosemia|Surendranagar Dud...|      H1003|\n|    156168|          NA|          Male|        1976-02-03|+91 5586075345| Fanconi anaemia|              Rajkot|      H1004|\n|    132748|    Brahmvir|          Male|        1991-11-11|+91 7316972612| Cystic fibrosis|              Ambala|      H1018|\n|    172579|     Devnath|        Female|        1946-05-01|+91 1868774631|    Food allergy|         Bidhannagar|      H1019|\n|    146382|  Dharmadaas|          Male|        1964-04-29|+91 6345482027|         Anthrax|Bhalswa Jahangir Pur|      H1019|\n|    114241|          NA|        Female|        1955-01-22|+91 4146391938|   Breast cancer|           Ghaziabad|      H1015|\n|    148137|       Umang|        Female|        1963-07-14|+91 9485838770|     Pet allergy|            Haridwar|      H1002|\n|    171320|       Atasi|          Male|        1967-10-02|+91 9747336855|        Whiplash|            Amravati|      H1013|\n|    187158|      Harbir|        Female|        1924-06-30|+91 0112009318|    Galactosemia|            Rourkela|      H1001|\n|    199252|     Ujjawal|          Male|        1980-04-16|+91 8547451606|   Kidney cancer|           Berhampur|      H1009|\n|    149367|          NA|          Male|        1925-06-12|+91 1780763280|    Head banging|           Bangalore|      H1013|\n|    133424|     Ballari|        Female|        1969-09-25|+91 0106026841|         Suicide|        Bihar Sharif|      H1017|\n|    130339|       Aakar|        Female|        1925-03-05|+91 2777633911|Drug consumption|        Bihar Sharif|      H1000|\n|    156988|  Bhagavaana|        Female|        1935-09-16|+91 6071745855|   Breast cancer|        Shahjahanpur|      H1012|\n|    112766|    Brahmdev|        Female|        1948-12-20|+91 1727749552|  Bladder cancer|        Tiruvottiyur|      H1016|\n|    107794|      Manish|          Male|        1967-06-06|+91 4354294043|      Sunbathing|              Panvel|      H1004|\n|    110377|     Gurudas|          Male|        1945-05-06|+91 1232859381|          Dengue|           Kamarhati|      H1001|\n|    132870|          NA|        Female|        1924-11-09|+91 8906694405|        Glaucoma|            Jabalpur|      H1017|\n|    179662|   Amritkala|        Female|        1933-11-20|+91 0537157280|        Smallpox|              Meerut|      H1018|\n|    184479|      Bandhu|          Male|        1996-10-15|+91 0695289163|  Pollen allergy|           Chinsurah|      H1010|\n+----------+------------+--------------+------------------+--------------+----------------+--------------------+-----------+\nonly showing top 20 rows\n\n"
     ]
    }
   ],
   "source": [
    "claims_df_cleaned.show()\n",
    "patient_records_df_cleaned.show()"
   ]
  },
  {
   "cell_type": "code",
   "execution_count": 0,
   "metadata": {
    "application/vnd.databricks.v1+cell": {
     "cellMetadata": {
      "byteLimit": 2048000,
      "rowLimit": 10000
     },
     "inputWidgets": {},
     "nuid": "334808a2-3e36-471b-93b8-2e332f97ddcc",
     "showTitle": false,
     "title": ""
    }
   },
   "outputs": [
    {
     "output_type": "stream",
     "name": "stdout",
     "output_type": "stream",
     "text": [
      "+----------+------------+-----------+------------+---------------+\n|Patient_id|Patient_name|hospital_id|claim_amount|     claim_type|\n+----------+------------+-----------+------------+---------------+\n|    189996|       Ekant|      H1003|      192381|claims of value|\n|    109251|   Anjushree|      H1001|      116937|claims of value|\n|    167340|          NA|      H1003|      118628|claims of value|\n|    132947|       Saroj|      H1016|      186502|claims of value|\n|    172579|     Devnath|      H1019|      168634|claims of value|\n|    109342|  Chitranjan|      H1011|      125727|claims of value|\n|    146382|  Dharmadaas|      H1019|       75983|claims of value|\n|    196369|          NA|      H1017|      164159|claims of value|\n|    148137|       Umang|      H1002|      105982|claims of value|\n|    198182|       Lalit|      H1017|       71703|claims of value|\n|    187158|      Harbir|      H1001|       79874|claims of value|\n|    199252|     Ujjawal|      H1009|       59924|claims of value|\n|    149367|          NA|      H1013|       88540|claims of value|\n|    122592|  Vaijayanti|      H1009|       83642|claims of value|\n|    194166|          NA|      H1015|      193801|claims of value|\n|    130339|       Aakar|      H1000|      177186|claims of value|\n|    160140|      Kishan|      H1002|      109433|claims of value|\n|    132870|          NA|      H1017|      182552|claims of value|\n|    113476|      Gensho|      H1016|      161199|claims of value|\n|    135184|     Bhagvan|      H1018|      100224|claims of value|\n+----------+------------+-----------+------------+---------------+\n\n"
     ]
    }
   ],
   "source": [
    "#12 List patients who have cashless insurance and have total charges greater than or equal for Rs. 50,000.\n",
    "# Joining patients and claims DataFrames\n",
    "joined_df = patient_records_df_cleaned.join(claims_df_cleaned, patient_records_df_cleaned[\"Patient_id\"] == claims_df_cleaned[\"patient_id\"])\n",
    "# Applying filters\n",
    "filtered_df = joined_df.filter(\n",
    "    (claims_df_cleaned[\"claim_type\"] == \"claims of value\") &\n",
    "    (claims_df_cleaned[\"claim_amount\"].cast(\"int\") >= 50000)\n",
    ")\n",
    "# Selecting required columns\n",
    "patients_cashless = filtered_df.select(\n",
    "    patient_records_df_cleaned[\"Patient_id\"],\n",
    "    patient_records_df_cleaned[\"Patient_name\"],\n",
    "    patient_records_df_cleaned[\"hospital_id\"],\n",
    "    claims_df_cleaned[\"claim_amount\"],\n",
    "    claims_df_cleaned[\"claim_type\"]\n",
    ")\n",
    "# Showing the result\n",
    "patients_cashless.show()\n",
    "# Saving as a permanent table\n",
    "permanent_table_name = \"patients_cashless\"\n",
    "patients_cashless.write.format(\"csv\").mode(\"overwrite\").saveAsTable(permanent_table_name)"
   ]
  },
  {
   "cell_type": "code",
   "execution_count": 0,
   "metadata": {
    "application/vnd.databricks.v1+cell": {
     "cellMetadata": {
      "byteLimit": 2048000,
      "rowLimit": 10000
     },
     "inputWidgets": {},
     "nuid": "d1e20ca9-edb2-4c13-848f-1217a72d90f5",
     "showTitle": false,
     "title": ""
    }
   },
   "outputs": [
    {
     "output_type": "stream",
     "name": "stdout",
     "output_type": "stream",
     "text": [
      "+----------+------------+--------------+------------------+--------------+----------------+--------------------+-----------+\n|Patient_id|Patient_name|patient_gender|patient_birth_date| patient_phone|    disease_name|                city|hospital_id|\n+----------+------------+--------------+------------------+--------------+----------------+--------------------+-----------+\n|    187158|      Harbir|        Female|        1924-06-30|+91 0112009318|    Galactosemia|            Rourkela|      H1001|\n|    112766|    Brahmdev|        Female|        1948-12-20|+91 1727749552|  Bladder cancer|        Tiruvottiyur|      H1016|\n|    199252|     Ujjawal|          Male|        1980-04-16|+91 8547451606|   Kidney cancer|           Berhampur|      H1009|\n|    133424|     Ballari|        Female|        1969-09-25|+91 0106026841|         Suicide|        Bihar Sharif|      H1017|\n|    172579|     Devnath|        Female|        1946-05-01|+91 1868774631|    Food allergy|         Bidhannagar|      H1019|\n|    171320|       Atasi|          Male|        1967-10-02|+91 9747336855|        Whiplash|            Amravati|      H1013|\n|    107794|      Manish|          Male|        1967-06-06|+91 4354294043|      Sunbathing|              Panvel|      H1004|\n|    130339|       Aakar|        Female|        1925-03-05|+91 2777633911|Drug consumption|        Bihar Sharif|      H1000|\n|    110377|     Gurudas|          Male|        1945-05-06|+91 1232859381|          Dengue|           Kamarhati|      H1001|\n|    149367|        null|          Male|        1925-06-12|+91 1780763280|    Head banging|           Bangalore|      H1013|\n|    156168|        null|          Male|        1976-02-03|+91 5586075345| Fanconi anaemia|              Rajkot|      H1004|\n|    114241|        null|        Female|        1955-01-22|+91 4146391938|   Breast cancer|           Ghaziabad|      H1015|\n|    146382|  Dharmadaas|          Male|        1964-04-29|+91 6345482027|         Anthrax|Bhalswa Jahangir Pur|      H1019|\n|    132748|    Brahmvir|          Male|        1991-11-11|+91 7316972612| Cystic fibrosis|              Ambala|      H1018|\n|    167340|        null|        Female|        1981-01-25|+91 2960004518|    Galactosemia|Surendranagar Dud...|      H1003|\n|    135184|     Bhagvan|        Female|        1966-07-24|+91 0297693485|          Dengue|          Bhimavaram|      H1018|\n|    179662|   Amritkala|        Female|        1933-11-20|+91 0537157280|        Smallpox|              Meerut|      H1018|\n|    184479|      Bandhu|          Male|        1996-10-15|+91 0695289163|  Pollen allergy|           Chinsurah|      H1010|\n|    156988|  Bhagavaana|        Female|        1935-09-16|+91 6071745855|   Breast cancer|        Shahjahanpur|      H1012|\n|    132870|        null|        Female|        1924-11-09|+91 8906694405|        Glaucoma|            Jabalpur|      H1017|\n+----------+------------+--------------+------------------+--------------+----------------+--------------------+-----------+\nonly showing top 20 rows\n\n+--------+-----------+--------------------+\n|SubGrpID| Disease_ID|        Disease_name|\n+--------+-----------+--------------------+\n|    S102|     110012|      Food Poisoning|\n|    S104|     110020|          Lymphedema|\n|    S101|     110005|             Rickets|\n|    S102|     110007|           Fractures|\n|    S102|     110010|             Choking|\n|    S101|     110006|             Anaemia|\n|    S104|     110019|             Vertigo|\n|    S103|     110014|            Glaucoma|\n|    S104|     110021|          Concussion|\n|    S101|     110001|            Beriberi|\n|    S101|     110004|        Osteoporosis|\n|    S102|     110009|               Burns|\n|    S101|     110003|              Goitre|\n|    S103|     110013|              Asthma|\n|    S103|     110016|             Amnesia|\n|    S103|     110015|            Diabetes|\n|    S102|     110008|        Heart Attack|\n|    S102|     110011|              Stroke|\n|    S101|     110002|              Scurvy|\n|    S103|     110018|Neurocognitive di...|\n+--------+-----------+--------------------+\nonly showing top 20 rows\n\n"
     ]
    }
   ],
   "source": [
    "patient_records_df.show()\n",
    "disease_df_cleaned.show()"
   ]
  },
  {
   "cell_type": "code",
   "execution_count": 0,
   "metadata": {
    "application/vnd.databricks.v1+cell": {
     "cellMetadata": {
      "byteLimit": 2048000,
      "rowLimit": 10000
     },
     "inputWidgets": {},
     "nuid": "9312faa5-3c72-4148-bd7b-c440d3b4d691",
     "showTitle": false,
     "title": ""
    }
   },
   "outputs": [
    {
     "output_type": "stream",
     "name": "stdout",
     "output_type": "stream",
     "text": [
      "+----------+------------+--------------+------------------+-------------+------------+----+-----------+\n|Patient_id|Patient_name|patient_gender|patient_birth_date|patient_phone|disease_name|city|hospital_id|\n+----------+------------+--------------+------------------+-------------+------------+----+-----------+\n+----------+------------+--------------+------------------+-------------+------------+----+-----------+\n\n"
     ]
    }
   ],
   "source": [
    "# 13. Female patients over age 40 who underwent knee surgery in the past year\n",
    "# Filter for female patients over the age of 40\n",
    "female_patients_over_40 = patient_records_df.filter(\n",
    "    (col(\"patient_gender\") == \"Female\") &\n",
    "    (datediff(current_date(), col(\"patient_birth_date\")) / 365 > 40)\n",
    ")\n",
    "#female_patients_over_40.show()\n",
    "# Filter for knee surgery in the past year\n",
    "knee_surgery_patients = female_patients_over_40.filter(\n",
    "    col(\"disease_name\").contains(\"Knee Surgery\"))\n",
    "\n",
    "# Show the results\n",
    "knee_surgery_patients.show()\n",
    "\n",
    "# #Saving as a permanent table\n",
    "permanent_table_name = \"knee_surgery_patients\"\n",
    "knee_surgery_patients.write.format(\"csv\").mode(\"overwrite\").saveAsTable(permanent_table_name)"
   ]
  },
  {
   "cell_type": "code",
   "execution_count": 0,
   "metadata": {
    "application/vnd.databricks.v1+cell": {
     "cellMetadata": {
      "byteLimit": 2048000,
      "rowLimit": 10000
     },
     "inputWidgets": {},
     "nuid": "54ff3c12-7d96-43e9-a5da-2b2c9c032920",
     "showTitle": false,
     "title": ""
    }
   },
   "outputs": [
    {
     "output_type": "display_data",
     "data": {
      "text/plain": [
       ""
      ]
     },
     "metadata": {
      "application/vnd.databricks.v1+output": {
       "arguments": {},
       "data": "",
       "errorSummary": "Command skipped",
       "errorTraceType": "ansi",
       "metadata": {},
       "type": "ipynbError"
      }
     },
     "output_type": "display_data"
    }
   ],
   "source": [
    "# Assuming your DataFrames are already cleaned and ready\n",
    "claims_df_cleaned.createOrReplaceTempView(\"claims\")\n",
    "disease_df_cleaned.createOrReplaceTempView(\"disease\")\n",
    "group_df_cleaned.createOrReplaceTempView(\"group\")\n",
    "grpsubgrp_df_cleaned.createOrReplaceTempView(\"grpsubgrp\")\n",
    "hospital_df_cleaned.createOrReplaceTempView(\"hospital\")\n",
    "subgroup_df_cleaned.createOrReplaceTempView(\"subgroup\")\n",
    "subscriber_df_cleaned.createOrReplaceTempView(\"subscriber\")\n",
    "patient_records_df_cleaned.createOrReplaceTempView(\"patient_records\")\n"
   ]
  }
 ],
 "metadata": {
  "application/vnd.databricks.v1+notebook": {
   "dashboards": [],
   "environmentMetadata": null,
   "language": "python",
   "notebookMetadata": {
    "mostRecentlyExecutedCommandWithImplicitDF": {
     "commandId": 2435706089467483,
     "dataframes": [
      "_sqldf"
     ]
    },
    "pythonIndentUnit": 4
   },
   "notebookName": "Health Insurance Analysis (Loading data from AWS S3 to DataBricks)",
   "widgets": {}
  }
 },
 "nbformat": 4,
 "nbformat_minor": 0
}
